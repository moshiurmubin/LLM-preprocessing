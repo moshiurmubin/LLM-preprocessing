{
 "cells": [
  {
   "cell_type": "code",
   "execution_count": 104,
   "id": "2136f6a3-5718-46b9-a052-1513cac3762e",
   "metadata": {},
   "outputs": [],
   "source": [
    "import pandas as pd\n"
   ]
  },
  {
   "cell_type": "code",
   "execution_count": 106,
   "id": "5bee4b5c-81bb-4af0-928e-1fb2292bbc7f",
   "metadata": {},
   "outputs": [],
   "source": [
    "df1=pd.read_csv('IMDBDataset.csv')"
   ]
  },
  {
   "cell_type": "code",
   "execution_count": 108,
   "id": "ee3e28d9-e5f0-41df-bf3f-27c4648bcf78",
   "metadata": {},
   "outputs": [
    {
     "data": {
      "text/html": [
       "<div>\n",
       "<style scoped>\n",
       "    .dataframe tbody tr th:only-of-type {\n",
       "        vertical-align: middle;\n",
       "    }\n",
       "\n",
       "    .dataframe tbody tr th {\n",
       "        vertical-align: top;\n",
       "    }\n",
       "\n",
       "    .dataframe thead th {\n",
       "        text-align: right;\n",
       "    }\n",
       "</style>\n",
       "<table border=\"1\" class=\"dataframe\">\n",
       "  <thead>\n",
       "    <tr style=\"text-align: right;\">\n",
       "      <th></th>\n",
       "      <th>review</th>\n",
       "      <th>sentiment</th>\n",
       "    </tr>\n",
       "  </thead>\n",
       "  <tbody>\n",
       "    <tr>\n",
       "      <th>0</th>\n",
       "      <td>One of the other reviewers has mentioned that ...</td>\n",
       "      <td>positive</td>\n",
       "    </tr>\n",
       "    <tr>\n",
       "      <th>1</th>\n",
       "      <td>A wonderful little production. &lt;br /&gt;&lt;br /&gt;The...</td>\n",
       "      <td>positive</td>\n",
       "    </tr>\n",
       "    <tr>\n",
       "      <th>2</th>\n",
       "      <td>I thought this was a wonderful way to spend ti...</td>\n",
       "      <td>positive</td>\n",
       "    </tr>\n",
       "    <tr>\n",
       "      <th>3</th>\n",
       "      <td>Basically there's a family where a little boy ...</td>\n",
       "      <td>negative</td>\n",
       "    </tr>\n",
       "    <tr>\n",
       "      <th>4</th>\n",
       "      <td>Petter Mattei's \"Love in the Time of Money\" is...</td>\n",
       "      <td>positive</td>\n",
       "    </tr>\n",
       "  </tbody>\n",
       "</table>\n",
       "</div>"
      ],
      "text/plain": [
       "                                              review sentiment\n",
       "0  One of the other reviewers has mentioned that ...  positive\n",
       "1  A wonderful little production. <br /><br />The...  positive\n",
       "2  I thought this was a wonderful way to spend ti...  positive\n",
       "3  Basically there's a family where a little boy ...  negative\n",
       "4  Petter Mattei's \"Love in the Time of Money\" is...  positive"
      ]
     },
     "execution_count": 108,
     "metadata": {},
     "output_type": "execute_result"
    }
   ],
   "source": [
    "df1.head(5)"
   ]
  },
  {
   "cell_type": "code",
   "execution_count": 110,
   "id": "45c5da83-c40c-44a1-b3d2-39d1f7c8f5de",
   "metadata": {},
   "outputs": [
    {
     "data": {
      "text/plain": [
       "(50000, 2)"
      ]
     },
     "execution_count": 110,
     "metadata": {},
     "output_type": "execute_result"
    }
   ],
   "source": [
    "df1.shape"
   ]
  },
  {
   "cell_type": "code",
   "execution_count": 119,
   "id": "572ae48e-f1f0-4cdd-81fc-c18e3bd6ae6b",
   "metadata": {},
   "outputs": [],
   "source": [
    "df=df1.head(100).copy()"
   ]
  },
  {
   "cell_type": "code",
   "execution_count": 122,
   "id": "bf3c2153-3937-4d56-a7d0-82c1b4560c87",
   "metadata": {},
   "outputs": [
    {
     "data": {
      "text/plain": [
       "0     One of the other reviewers has mentioned that ...\n",
       "1     A wonderful little production. <br /><br />The...\n",
       "2     I thought this was a wonderful way to spend ti...\n",
       "3     Basically there's a family where a little boy ...\n",
       "4     Petter Mattei's \"Love in the Time of Money\" is...\n",
       "                            ...                        \n",
       "95    Daniel Day-Lewis is the most versatile actor a...\n",
       "96    My guess would be this was originally going to...\n",
       "97    Well, I like to watch bad horror B-Movies, cau...\n",
       "98    This IS the worst movie I have ever seen, as w...\n",
       "99    I have been a Mario fan for as long as I can r...\n",
       "Name: review, Length: 100, dtype: object"
      ]
     },
     "execution_count": 122,
     "metadata": {},
     "output_type": "execute_result"
    }
   ],
   "source": [
    "df['review']"
   ]
  },
  {
   "cell_type": "code",
   "execution_count": 158,
   "id": "31772003-1bf6-4920-b508-0a8a8170f41c",
   "metadata": {},
   "outputs": [],
   "source": [
    "#Lower case\n",
    "df['review']=df1['review'].str.lower()"
   ]
  },
  {
   "cell_type": "code",
   "execution_count": 126,
   "id": "b3973123-afb6-4e19-8ee6-9642485678df",
   "metadata": {},
   "outputs": [
    {
     "data": {
      "text/plain": [
       "\"one of the other reviewers has mentioned that after watching just 1 oz episode you'll be hooked. they are right, as this is exactly what happened with me.<br /><br />the first thing that struck me about oz was its brutality and unflinching scenes of violence, which set in right from the word go. trust me, this is not a show for the faint hearted or timid. this show pulls no punches with regards to drugs, sex or violence. its is hardcore, in the classic use of the word.<br /><br />it is called oz as that is the nickname given to the oswald maximum security state penitentary. it focuses mainly on emerald city, an experimental section of the prison where all the cells have glass fronts and face inwards, so privacy is not high on the agenda. em city is home to many..aryans, muslims, gangstas, latinos, christians, italians, irish and more....so scuffles, death stares, dodgy dealings and shady agreements are never far away.<br /><br />i would say the main appeal of the show is due to the fact that it goes where other shows wouldn't dare. forget pretty pictures painted for mainstream audiences, forget charm, forget romance...oz doesn't mess around. the first episode i ever saw struck me as so nasty it was surreal, i couldn't say i was ready for it, but as i watched more, i developed a taste for oz, and got accustomed to the high levels of graphic violence. not just violence, but injustice (crooked guards who'll be sold out for a nickel, inmates who'll kill on order and get away with it, well mannered, middle class inmates being turned into prison bitches due to their lack of street skills or prison experience) watching oz, you may become comfortable with what is uncomfortable viewing....thats if you can get in touch with your darker side.\""
      ]
     },
     "execution_count": 126,
     "metadata": {},
     "output_type": "execute_result"
    }
   ],
   "source": [
    "df['review'][0]"
   ]
  },
  {
   "cell_type": "code",
   "execution_count": 152,
   "id": "79a61684-73e7-455c-9dd1-b9a3d0f622ef",
   "metadata": {},
   "outputs": [],
   "source": [
    "#HTML tag Removes\n",
    "import re\n",
    "def remove_html_tags(text):\n",
    "    pattern = re.compile('<.*?>')\n",
    "    return pattern.sub(r'',text)"
   ]
  },
  {
   "cell_type": "code",
   "execution_count": 154,
   "id": "8dca6bf2-deae-4d04-a181-f4b9af76fb39",
   "metadata": {},
   "outputs": [],
   "source": [
    "df1['review']=df['review'].apply(remove_html_tags)"
   ]
  },
  {
   "cell_type": "code",
   "execution_count": 156,
   "id": "ab6dd552-98e5-4573-924f-95a2be101e65",
   "metadata": {},
   "outputs": [
    {
     "data": {
      "text/plain": [
       "\"one of the other reviewers has mentioned that after watching just 1 oz episode you'll be hooked. they are right, as this is exactly what happened with me.the first thing that struck me about oz was its brutality and unflinching scenes of violence, which set in right from the word go. trust me, this is not a show for the faint hearted or timid. this show pulls no punches with regards to drugs, sex or violence. its is hardcore, in the classic use of the word.it is called oz as that is the nickname given to the oswald maximum security state penitentary. it focuses mainly on emerald city, an experimental section of the prison where all the cells have glass fronts and face inwards, so privacy is not high on the agenda. em city is home to many..aryans, muslims, gangstas, latinos, christians, italians, irish and more....so scuffles, death stares, dodgy dealings and shady agreements are never far away.i would say the main appeal of the show is due to the fact that it goes where other shows wouldn't dare. forget pretty pictures painted for mainstream audiences, forget charm, forget romance...oz doesn't mess around. the first episode i ever saw struck me as so nasty it was surreal, i couldn't say i was ready for it, but as i watched more, i developed a taste for oz, and got accustomed to the high levels of graphic violence. not just violence, but injustice (crooked guards who'll be sold out for a nickel, inmates who'll kill on order and get away with it, well mannered, middle class inmates being turned into prison bitches due to their lack of street skills or prison experience) watching oz, you may become comfortable with what is uncomfortable viewing....thats if you can get in touch with your darker side.\""
      ]
     },
     "execution_count": 156,
     "metadata": {},
     "output_type": "execute_result"
    }
   ],
   "source": [
    "df1['review'][0]"
   ]
  },
  {
   "cell_type": "code",
   "execution_count": 160,
   "id": "77cfa2d1-6b80-4f3d-bb37-7037ba7ad930",
   "metadata": {},
   "outputs": [],
   "source": [
    "#url remove\n",
    "def remove_url(text):\n",
    "    pattern = re.compile(r'https?://\\S+|www\\.\\S+')\n",
    "    return pattern.sub(r'',text)\n",
    " "
   ]
  },
  {
   "cell_type": "code",
   "execution_count": 162,
   "id": "eaf66ff8-a149-447f-8735-80cd654d710d",
   "metadata": {},
   "outputs": [],
   "source": [
    "df1['review']=df['review'].apply(remove_url)"
   ]
  },
  {
   "cell_type": "code",
   "execution_count": 214,
   "id": "d0839e5c-750b-484e-8477-5b1f0a0ed9fa",
   "metadata": {},
   "outputs": [],
   "source": [
    "#puntuation handling\n",
    "import string,time\n",
    "string.punctuation\n",
    "exclude=string.punctuation\n",
    "\n",
    "def remove_punc(text):\n",
    "    for char in exclude:\n",
    "        text=text.replace(char,' ')\n",
    "    return text"
   ]
  },
  {
   "cell_type": "code",
   "execution_count": 216,
   "id": "d09f664b-26da-47b9-9e87-90871f57f90e",
   "metadata": {},
   "outputs": [
    {
     "data": {
      "text/plain": [
       "'string With punc  '"
      ]
     },
     "execution_count": 216,
     "metadata": {},
     "output_type": "execute_result"
    }
   ],
   "source": [
    "text='string.With.punc?!'\n",
    "remove_punc(text)"
   ]
  },
  {
   "cell_type": "code",
   "execution_count": 220,
   "id": "e7e14f35-767a-417c-be79-e071df2eab09",
   "metadata": {},
   "outputs": [],
   "source": [
    "def remove_punc1(text):\n",
    "    return text.translate(str.maketrans('','',exclude))"
   ]
  },
  {
   "cell_type": "code",
   "execution_count": 224,
   "id": "302e643d-e15a-481b-b13a-afd52d76ffe8",
   "metadata": {},
   "outputs": [],
   "source": [
    "df1['review']=df['review'].apply(remove_punc1)"
   ]
  },
  {
   "cell_type": "code",
   "execution_count": 228,
   "id": "1beb4c56-b446-41fe-93db-28b067df0c1d",
   "metadata": {},
   "outputs": [],
   "source": [
    "#chat conv handle ;we can also use the unicode of the emoji\n",
    "\n",
    "chat_dict = {\n",
    "    # Basic abbreviations\n",
    "    \"u\": \"you\",\n",
    "    \"r\": \"are\",\n",
    "    \"ur\": \"your\",\n",
    "    \"b4\": \"before\",\n",
    "    \"gr8\": \"great\",\n",
    "    \"l8r\": \"later\",\n",
    "    \"2day\": \"today\",\n",
    "    \"2moro\": \"tomorrow\",\n",
    "    \"thx\": \"thanks\",\n",
    "    \"tnx\": \"thanks\",\n",
    "    \"pls\": \"please\",\n",
    "    \"plz\": \"please\",\n",
    "    \"sry\": \"sorry\",\n",
    "    \"btw\": \"by the way\",\n",
    "    \"omg\": \"oh my god\",\n",
    "    \"idk\": \"I don't know\",\n",
    "    \"lol\": \"laughing out loud\",\n",
    "    \"lmao\": \"laughing my ass off\",\n",
    "    \"rofl\": \"rolling on the floor laughing\",\n",
    "    \"smh\": \"shaking my head\",\n",
    "    \"brb\": \"be right back\",\n",
    "    \"gtg\": \"got to go\",\n",
    "    \"afaik\": \"as far as I know\",\n",
    "    \"imo\": \"in my opinion\",\n",
    "    \"imho\": \"in my humble opinion\",\n",
    "    \"ikr\": \"I know right\",\n",
    "    \"tbh\": \"to be honest\",\n",
    "    \"np\": \"no problem\",\n",
    "    \"nvm\": \"never mind\",\n",
    "    \"fyi\": \"for your information\",\n",
    "    \"jk\": \"just kidding\",\n",
    "    \"yw\": \"you’re welcome\",\n",
    "    \"bc\": \"because\",\n",
    "    \"bday\": \"birthday\",\n",
    "\n",
    "    # Slang and informal\n",
    "    \"gonna\": \"going to\",\n",
    "    \"wanna\": \"want to\",\n",
    "    \"gotta\": \"got to\",\n",
    "    \"kinda\": \"kind of\",\n",
    "    \"lemme\": \"let me\",\n",
    "    \"gimme\": \"give me\",\n",
    "    \"ya\": \"you\",\n",
    "    \"ain't\": \"is not\",\n",
    "    \"cuz\": \"because\",\n",
    "    \"coz\": \"because\",\n",
    "    \"tho\": \"though\",\n",
    "    \"nite\": \"night\",\n",
    "    \"ya'll\": \"you all\",\n",
    "    \"sup\": \"what's up\",\n",
    "    \"yo\": \"hello\",\n",
    "    \"bro\": \"brother\",\n",
    "    \"sis\": \"sister\",\n",
    "    \"nope\": \"no\",\n",
    "    \"yup\": \"yes\",\n",
    "    \"alright\": \"all right\",\n",
    "\n",
    "    # Emoji meanings (some)\n",
    "    \"😂\": \"laughing\",\n",
    "    \"🤣\": \"laughing\",\n",
    "    \"❤️\": \"love\",\n",
    "    \"💕\": \"love\",\n",
    "    \"😍\": \"in love\",\n",
    "    \"😊\": \"happy\",\n",
    "    \"😢\": \"sad\",\n",
    "    \"😭\": \"crying\",\n",
    "    \"😡\": \"angry\",\n",
    "    \"👍\": \"good\",\n",
    "    \"👎\": \"bad\",\n",
    "    \"🤔\": \"thinking\",\n",
    "    \"🙏\": \"thank you\",\n",
    "    \"🔥\": \"awesome\",\n",
    "    \"💯\": \"perfect\",\n",
    "}\n"
   ]
  },
  {
   "cell_type": "code",
   "execution_count": 230,
   "id": "8b83800d-19c9-465b-94ca-6bc397128a53",
   "metadata": {},
   "outputs": [],
   "source": [
    "def normalize_chat(text,dictionary):\n",
    "    words = text.split()\n",
    "    normalized = [dictionary.get(word.lower(), word) for word in words]\n",
    "    return ' '.join(normalized)\n"
   ]
  },
  {
   "cell_type": "code",
   "execution_count": 232,
   "id": "903a2fa4-7075-472e-8c1e-481c390e0055",
   "metadata": {},
   "outputs": [
    {
     "name": "stdout",
     "output_type": "stream",
     "text": [
      "oh my god you are great laughing\n"
     ]
    }
   ],
   "source": [
    "text = \"omg u r gr8 😂\"\n",
    "print(normalize_chat(text, chat_dict))"
   ]
  },
  {
   "cell_type": "code",
   "execution_count": 274,
   "id": "765ac470-6b00-41c2-b1fd-c67f97105283",
   "metadata": {},
   "outputs": [
    {
     "name": "stdout",
     "output_type": "stream",
     "text": [
      "Requirement already satisfied: emoji in c:\\programdata\\anaconda3_2024-06-1\\lib\\site-packages (2.14.1)\n",
      "today is :fire:!\n"
     ]
    }
   ],
   "source": [
    "!pip install emoji\n",
    "import emoji\n",
    "print(emoji.demojize('today is 🔥!'))"
   ]
  },
  {
   "cell_type": "code",
   "execution_count": 254,
   "id": "a00f992e-6c0a-4006-b643-957f6e6b6579",
   "metadata": {},
   "outputs": [],
   "source": [
    "df1['review'] = df['review'].apply(lambda x: normalize_chat(x, chat_dict))"
   ]
  },
  {
   "cell_type": "code",
   "execution_count": 256,
   "id": "801c45ac-827b-4144-b9ed-22ebf3d6d156",
   "metadata": {},
   "outputs": [
    {
     "name": "stdout",
     "output_type": "stream",
     "text": [
      "Requirement already satisfied: textblob in c:\\programdata\\anaconda3_2024-06-1\\lib\\site-packages (0.19.0)\n",
      "Requirement already satisfied: nltk>=3.9 in c:\\programdata\\anaconda3_2024-06-1\\lib\\site-packages (from textblob) (3.9.1)\n",
      "Requirement already satisfied: click in c:\\programdata\\anaconda3_2024-06-1\\lib\\site-packages (from nltk>=3.9->textblob) (8.1.7)\n",
      "Requirement already satisfied: joblib in c:\\programdata\\anaconda3_2024-06-1\\lib\\site-packages (from nltk>=3.9->textblob) (1.4.2)\n",
      "Requirement already satisfied: regex>=2021.8.3 in c:\\programdata\\anaconda3_2024-06-1\\lib\\site-packages (from nltk>=3.9->textblob) (2023.10.3)\n",
      "Requirement already satisfied: tqdm in c:\\programdata\\anaconda3_2024-06-1\\lib\\site-packages (from nltk>=3.9->textblob) (4.66.4)\n",
      "Requirement already satisfied: colorama in c:\\programdata\\anaconda3_2024-06-1\\lib\\site-packages (from click->nltk>=3.9->textblob) (0.4.6)\n",
      "I really lui this product! Tz some.\n"
     ]
    }
   ],
   "source": [
    "#spelling corerct\n",
    "!pip install textblob\n",
    "from textblob import TextBlob\n",
    "\n",
    "text = \"I realy luv this prodct! Itz awsome.\"\n",
    "blob = TextBlob(text)\n",
    "corrected = blob.correct()\n",
    "print(corrected)"
   ]
  },
  {
   "cell_type": "code",
   "execution_count": 257,
   "id": "71cadc27-4bef-4d84-adb7-b26df5e59a02",
   "metadata": {},
   "outputs": [
    {
     "name": "stderr",
     "output_type": "stream",
     "text": [
      "[nltk_data] Downloading package stopwords to\n",
      "[nltk_data]     C:\\Users\\240378802\\AppData\\Roaming\\nltk_data...\n",
      "[nltk_data]   Package stopwords is already up-to-date!\n"
     ]
    }
   ],
   "source": [
    "#stopword remove to short the dimention\n",
    "import nltk\n",
    "from nltk.corpus import stopwords\n",
    "nltk.download('stopwords')\n",
    "\n",
    "stop_words = set(stopwords.words('english'))\n",
    "\n",
    "def remove_stopwords(text):\n",
    "    words = text.split()\n",
    "    filtered = [word for word in words if word.lower() not in stop_words]\n",
    "    return ' '.join(filtered)"
   ]
  },
  {
   "cell_type": "code",
   "execution_count": 260,
   "id": "72fe90e1-81a0-4729-b074-126b3f6dae82",
   "metadata": {},
   "outputs": [
    {
     "name": "stdout",
     "output_type": "stream",
     "text": [
      "example text preprocessing.\n"
     ]
    }
   ],
   "source": [
    "text = \"This is an example of text preprocessing.\"\n",
    "print(remove_stopwords(text))"
   ]
  },
  {
   "cell_type": "code",
   "execution_count": 262,
   "id": "dc5e784d-e42a-4e6c-96c3-00661a3c7882",
   "metadata": {},
   "outputs": [
    {
     "data": {
      "text/plain": [
       "198"
      ]
     },
     "execution_count": 262,
     "metadata": {},
     "output_type": "execute_result"
    }
   ],
   "source": [
    "len(stopwords.words('english'))"
   ]
  },
  {
   "cell_type": "code",
   "execution_count": 264,
   "id": "9234436d-6be7-4094-bdaa-675945db5b42",
   "metadata": {},
   "outputs": [],
   "source": [
    "df1['review']=df['review'].apply(remove_stopwords)"
   ]
  },
  {
   "cell_type": "code",
   "execution_count": 280,
   "id": "7e12aa12-03aa-467f-aac2-0c81b5f42fb8",
   "metadata": {},
   "outputs": [
    {
     "name": "stderr",
     "output_type": "stream",
     "text": [
      "[nltk_data] Downloading package punkt to\n",
      "[nltk_data]     C:\\Users\\240378802\\AppData\\Roaming\\nltk_data...\n",
      "[nltk_data]   Package punkt is already up-to-date!\n",
      "[nltk_data] Downloading package punkt_tab to\n",
      "[nltk_data]     C:\\Users\\240378802\\AppData\\Roaming\\nltk_data...\n",
      "[nltk_data]   Unzipping tokenizers\\punkt_tab.zip.\n"
     ]
    },
    {
     "data": {
      "text/plain": [
       "True"
      ]
     },
     "execution_count": 280,
     "metadata": {},
     "output_type": "execute_result"
    }
   ],
   "source": [
    "#tokenization\n",
    "from nltk.tokenize import word_tokenize,sent_tokenize\n",
    "import nltk\n",
    "nltk.download('punkt')\n",
    "nltk.download('punkt_tab')"
   ]
  },
  {
   "cell_type": "code",
   "execution_count": 282,
   "id": "1c6c15f8-213a-49c2-bf8c-1472f6740219",
   "metadata": {},
   "outputs": [
    {
     "data": {
      "text/plain": [
       "['I', 'am', 'Mubin', 'going', 'to', 'UK']"
      ]
     },
     "execution_count": 282,
     "metadata": {},
     "output_type": "execute_result"
    }
   ],
   "source": [
    "sent1='I am Mubin going to UK'\n",
    "word_tokenize(sent1)"
   ]
  },
  {
   "cell_type": "code",
   "execution_count": 284,
   "id": "b9482e37-2414-41b3-a0ca-8506e9ab76e7",
   "metadata": {},
   "outputs": [],
   "source": [
    "#stemmer ( convert into the main form)\n",
    "from nltk.stem.porter import PorterStemmer"
   ]
  },
  {
   "cell_type": "code",
   "execution_count": 286,
   "id": "7ab04628-a51f-4152-955d-113efc3324b2",
   "metadata": {},
   "outputs": [],
   "source": [
    "ps=PorterStemmer()\n",
    "def stem_words(text):\n",
    "    return ' '.join([ps.stem(word) for word in text.split()])"
   ]
  },
  {
   "cell_type": "code",
   "execution_count": 288,
   "id": "823a5874-7826-480b-96a1-b6e8fc89e055",
   "metadata": {},
   "outputs": [
    {
     "data": {
      "text/plain": [
       "'walk walk walk walk'"
      ]
     },
     "execution_count": 288,
     "metadata": {},
     "output_type": "execute_result"
    }
   ],
   "source": [
    "sample='walk walks walking walked'\n",
    "stem_words(sample)"
   ]
  },
  {
   "cell_type": "code",
   "execution_count": 294,
   "id": "04942208-30f0-4eed-baad-84fded485db4",
   "metadata": {},
   "outputs": [
    {
     "name": "stdout",
     "output_type": "stream",
     "text": [
      "Collecting spacy\n",
      "  Downloading spacy-3.8.7-cp312-cp312-win_amd64.whl.metadata (28 kB)\n",
      "Collecting spacy-legacy<3.1.0,>=3.0.11 (from spacy)\n",
      "  Downloading spacy_legacy-3.0.12-py2.py3-none-any.whl.metadata (2.8 kB)\n",
      "Collecting spacy-loggers<2.0.0,>=1.0.0 (from spacy)\n",
      "  Downloading spacy_loggers-1.0.5-py3-none-any.whl.metadata (23 kB)\n",
      "Collecting murmurhash<1.1.0,>=0.28.0 (from spacy)\n",
      "  Downloading murmurhash-1.0.13-cp312-cp312-win_amd64.whl.metadata (2.2 kB)\n",
      "Collecting cymem<2.1.0,>=2.0.2 (from spacy)\n",
      "  Downloading cymem-2.0.11-cp312-cp312-win_amd64.whl.metadata (8.8 kB)\n",
      "Collecting preshed<3.1.0,>=3.0.2 (from spacy)\n",
      "  Downloading preshed-3.0.10-cp312-cp312-win_amd64.whl.metadata (2.5 kB)\n",
      "Collecting thinc<8.4.0,>=8.3.4 (from spacy)\n",
      "  Downloading thinc-8.3.6-cp312-cp312-win_amd64.whl.metadata (15 kB)\n",
      "Collecting wasabi<1.2.0,>=0.9.1 (from spacy)\n",
      "  Downloading wasabi-1.1.3-py3-none-any.whl.metadata (28 kB)\n",
      "Collecting srsly<3.0.0,>=2.4.3 (from spacy)\n",
      "  Downloading srsly-2.5.1-cp312-cp312-win_amd64.whl.metadata (20 kB)\n",
      "Collecting catalogue<2.1.0,>=2.0.6 (from spacy)\n",
      "  Downloading catalogue-2.0.10-py3-none-any.whl.metadata (14 kB)\n",
      "Collecting weasel<0.5.0,>=0.1.0 (from spacy)\n",
      "  Downloading weasel-0.4.1-py3-none-any.whl.metadata (4.6 kB)\n",
      "Collecting typer<1.0.0,>=0.3.0 (from spacy)\n",
      "  Downloading typer-0.16.0-py3-none-any.whl.metadata (15 kB)\n",
      "Requirement already satisfied: tqdm<5.0.0,>=4.38.0 in c:\\programdata\\anaconda3_2024-06-1\\lib\\site-packages (from spacy) (4.66.4)\n",
      "Requirement already satisfied: numpy>=1.19.0 in c:\\programdata\\anaconda3_2024-06-1\\lib\\site-packages (from spacy) (1.26.4)\n",
      "Requirement already satisfied: requests<3.0.0,>=2.13.0 in c:\\programdata\\anaconda3_2024-06-1\\lib\\site-packages (from spacy) (2.32.2)\n",
      "Requirement already satisfied: pydantic!=1.8,!=1.8.1,<3.0.0,>=1.7.4 in c:\\programdata\\anaconda3_2024-06-1\\lib\\site-packages (from spacy) (2.5.3)\n",
      "Requirement already satisfied: jinja2 in c:\\programdata\\anaconda3_2024-06-1\\lib\\site-packages (from spacy) (3.1.4)\n",
      "Requirement already satisfied: setuptools in c:\\programdata\\anaconda3_2024-06-1\\lib\\site-packages (from spacy) (69.5.1)\n",
      "Requirement already satisfied: packaging>=20.0 in c:\\programdata\\anaconda3_2024-06-1\\lib\\site-packages (from spacy) (23.2)\n",
      "Collecting langcodes<4.0.0,>=3.2.0 (from spacy)\n",
      "  Downloading langcodes-3.5.0-py3-none-any.whl.metadata (29 kB)\n",
      "Collecting language-data>=1.2 (from langcodes<4.0.0,>=3.2.0->spacy)\n",
      "  Downloading language_data-1.3.0-py3-none-any.whl.metadata (4.3 kB)\n",
      "Requirement already satisfied: annotated-types>=0.4.0 in c:\\programdata\\anaconda3_2024-06-1\\lib\\site-packages (from pydantic!=1.8,!=1.8.1,<3.0.0,>=1.7.4->spacy) (0.6.0)\n",
      "Requirement already satisfied: pydantic-core==2.14.6 in c:\\programdata\\anaconda3_2024-06-1\\lib\\site-packages (from pydantic!=1.8,!=1.8.1,<3.0.0,>=1.7.4->spacy) (2.14.6)\n",
      "Requirement already satisfied: typing-extensions>=4.6.1 in c:\\programdata\\anaconda3_2024-06-1\\lib\\site-packages (from pydantic!=1.8,!=1.8.1,<3.0.0,>=1.7.4->spacy) (4.11.0)\n",
      "Requirement already satisfied: charset-normalizer<4,>=2 in c:\\programdata\\anaconda3_2024-06-1\\lib\\site-packages (from requests<3.0.0,>=2.13.0->spacy) (2.0.4)\n",
      "Requirement already satisfied: idna<4,>=2.5 in c:\\programdata\\anaconda3_2024-06-1\\lib\\site-packages (from requests<3.0.0,>=2.13.0->spacy) (3.7)\n",
      "Requirement already satisfied: urllib3<3,>=1.21.1 in c:\\programdata\\anaconda3_2024-06-1\\lib\\site-packages (from requests<3.0.0,>=2.13.0->spacy) (2.2.2)\n",
      "Requirement already satisfied: certifi>=2017.4.17 in c:\\programdata\\anaconda3_2024-06-1\\lib\\site-packages (from requests<3.0.0,>=2.13.0->spacy) (2024.8.30)\n",
      "Collecting blis<1.4.0,>=1.3.0 (from thinc<8.4.0,>=8.3.4->spacy)\n",
      "  Downloading blis-1.3.0-cp312-cp312-win_amd64.whl.metadata (7.6 kB)\n",
      "Collecting confection<1.0.0,>=0.0.1 (from thinc<8.4.0,>=8.3.4->spacy)\n",
      "  Downloading confection-0.1.5-py3-none-any.whl.metadata (19 kB)\n",
      "Collecting numpy>=1.19.0 (from spacy)\n",
      "  Downloading numpy-2.3.0-cp312-cp312-win_amd64.whl.metadata (60 kB)\n",
      "     ---------------------------------------- 0.0/60.9 kB ? eta -:--:--\n",
      "     ---------------------------------------- 60.9/60.9 kB 3.4 MB/s eta 0:00:00\n",
      "Requirement already satisfied: colorama in c:\\programdata\\anaconda3_2024-06-1\\lib\\site-packages (from tqdm<5.0.0,>=4.38.0->spacy) (0.4.6)\n",
      "Requirement already satisfied: click>=8.0.0 in c:\\programdata\\anaconda3_2024-06-1\\lib\\site-packages (from typer<1.0.0,>=0.3.0->spacy) (8.1.7)\n",
      "Collecting shellingham>=1.3.0 (from typer<1.0.0,>=0.3.0->spacy)\n",
      "  Downloading shellingham-1.5.4-py2.py3-none-any.whl.metadata (3.5 kB)\n",
      "Requirement already satisfied: rich>=10.11.0 in c:\\programdata\\anaconda3_2024-06-1\\lib\\site-packages (from typer<1.0.0,>=0.3.0->spacy) (13.3.5)\n",
      "Collecting cloudpathlib<1.0.0,>=0.7.0 (from weasel<0.5.0,>=0.1.0->spacy)\n",
      "  Downloading cloudpathlib-0.21.1-py3-none-any.whl.metadata (14 kB)\n",
      "Requirement already satisfied: smart-open<8.0.0,>=5.2.1 in c:\\programdata\\anaconda3_2024-06-1\\lib\\site-packages (from weasel<0.5.0,>=0.1.0->spacy) (5.2.1)\n",
      "Requirement already satisfied: MarkupSafe>=2.0 in c:\\programdata\\anaconda3_2024-06-1\\lib\\site-packages (from jinja2->spacy) (2.1.3)\n",
      "Collecting marisa-trie>=1.1.0 (from language-data>=1.2->langcodes<4.0.0,>=3.2.0->spacy)\n",
      "  Downloading marisa_trie-1.2.1-cp312-cp312-win_amd64.whl.metadata (9.3 kB)\n",
      "Requirement already satisfied: markdown-it-py<3.0.0,>=2.2.0 in c:\\programdata\\anaconda3_2024-06-1\\lib\\site-packages (from rich>=10.11.0->typer<1.0.0,>=0.3.0->spacy) (2.2.0)\n",
      "Requirement already satisfied: pygments<3.0.0,>=2.13.0 in c:\\programdata\\anaconda3_2024-06-1\\lib\\site-packages (from rich>=10.11.0->typer<1.0.0,>=0.3.0->spacy) (2.15.1)\n",
      "Requirement already satisfied: mdurl~=0.1 in c:\\programdata\\anaconda3_2024-06-1\\lib\\site-packages (from markdown-it-py<3.0.0,>=2.2.0->rich>=10.11.0->typer<1.0.0,>=0.3.0->spacy) (0.1.0)\n",
      "Downloading spacy-3.8.7-cp312-cp312-win_amd64.whl (13.9 MB)\n",
      "   ---------------------------------------- 0.0/13.9 MB ? eta -:--:--\n",
      "   ---------------------------------------- 0.1/13.9 MB 5.1 MB/s eta 0:00:03\n",
      "    --------------------------------------- 0.2/13.9 MB 3.1 MB/s eta 0:00:05\n",
      "    --------------------------------------- 0.3/13.9 MB 2.8 MB/s eta 0:00:05\n",
      "   - -------------------------------------- 0.4/13.9 MB 2.7 MB/s eta 0:00:06\n",
      "   - -------------------------------------- 0.6/13.9 MB 2.7 MB/s eta 0:00:05\n",
      "   - -------------------------------------- 0.7/13.9 MB 2.7 MB/s eta 0:00:05\n",
      "   -- ------------------------------------- 0.8/13.9 MB 2.7 MB/s eta 0:00:05\n",
      "   -- ------------------------------------- 0.9/13.9 MB 2.6 MB/s eta 0:00:05\n",
      "   -- ------------------------------------- 1.0/13.9 MB 2.6 MB/s eta 0:00:05\n",
      "   --- ------------------------------------ 1.1/13.9 MB 2.6 MB/s eta 0:00:05\n",
      "   --- ------------------------------------ 1.2/13.9 MB 2.4 MB/s eta 0:00:06\n",
      "   --- ------------------------------------ 1.3/13.9 MB 2.4 MB/s eta 0:00:06\n",
      "   ---- ----------------------------------- 1.4/13.9 MB 2.4 MB/s eta 0:00:06\n",
      "   ---- ----------------------------------- 1.5/13.9 MB 2.5 MB/s eta 0:00:06\n",
      "   ---- ----------------------------------- 1.7/13.9 MB 2.5 MB/s eta 0:00:05\n",
      "   ----- ---------------------------------- 1.8/13.9 MB 2.5 MB/s eta 0:00:05\n",
      "   ----- ---------------------------------- 1.9/13.9 MB 2.5 MB/s eta 0:00:05\n",
      "   ----- ---------------------------------- 2.0/13.9 MB 2.5 MB/s eta 0:00:05\n",
      "   ------ --------------------------------- 2.1/13.9 MB 2.5 MB/s eta 0:00:05\n",
      "   ------ --------------------------------- 2.3/13.9 MB 2.5 MB/s eta 0:00:05\n",
      "   ------ --------------------------------- 2.4/13.9 MB 2.5 MB/s eta 0:00:05\n",
      "   ------- -------------------------------- 2.5/13.9 MB 2.5 MB/s eta 0:00:05\n",
      "   ------- -------------------------------- 2.6/13.9 MB 2.5 MB/s eta 0:00:05\n",
      "   ------- -------------------------------- 2.8/13.9 MB 2.5 MB/s eta 0:00:05\n",
      "   -------- ------------------------------- 2.9/13.9 MB 2.5 MB/s eta 0:00:05\n",
      "   -------- ------------------------------- 3.0/13.9 MB 2.5 MB/s eta 0:00:05\n",
      "   --------- ------------------------------ 3.2/13.9 MB 2.5 MB/s eta 0:00:05\n",
      "   --------- ------------------------------ 3.3/13.9 MB 2.5 MB/s eta 0:00:05\n",
      "   --------- ------------------------------ 3.4/13.9 MB 2.6 MB/s eta 0:00:05\n",
      "   ---------- ----------------------------- 3.5/13.9 MB 2.6 MB/s eta 0:00:05\n",
      "   ---------- ----------------------------- 3.6/13.9 MB 2.6 MB/s eta 0:00:04\n",
      "   ---------- ----------------------------- 3.7/13.9 MB 2.5 MB/s eta 0:00:04\n",
      "   ----------- ---------------------------- 3.9/13.9 MB 2.5 MB/s eta 0:00:04\n",
      "   ----------- ---------------------------- 4.0/13.9 MB 2.5 MB/s eta 0:00:04\n",
      "   ----------- ---------------------------- 4.1/13.9 MB 2.5 MB/s eta 0:00:04\n",
      "   ------------ --------------------------- 4.2/13.9 MB 2.5 MB/s eta 0:00:04\n",
      "   ------------ --------------------------- 4.3/13.9 MB 2.5 MB/s eta 0:00:04\n",
      "   ------------ --------------------------- 4.4/13.9 MB 2.5 MB/s eta 0:00:04\n",
      "   ------------- -------------------------- 4.5/13.9 MB 2.5 MB/s eta 0:00:04\n",
      "   ------------- -------------------------- 4.6/13.9 MB 2.5 MB/s eta 0:00:04\n",
      "   ------------- -------------------------- 4.8/13.9 MB 2.5 MB/s eta 0:00:04\n",
      "   -------------- ------------------------- 4.9/13.9 MB 2.5 MB/s eta 0:00:04\n",
      "   -------------- ------------------------- 5.0/13.9 MB 2.5 MB/s eta 0:00:04\n",
      "   -------------- ------------------------- 5.1/13.9 MB 2.5 MB/s eta 0:00:04\n",
      "   --------------- ------------------------ 5.2/13.9 MB 2.5 MB/s eta 0:00:04\n",
      "   --------------- ------------------------ 5.3/13.9 MB 2.5 MB/s eta 0:00:04\n",
      "   --------------- ------------------------ 5.5/13.9 MB 2.5 MB/s eta 0:00:04\n",
      "   ---------------- ----------------------- 5.6/13.9 MB 2.5 MB/s eta 0:00:04\n",
      "   ---------------- ----------------------- 5.7/13.9 MB 2.5 MB/s eta 0:00:04\n",
      "   ---------------- ----------------------- 5.8/13.9 MB 2.5 MB/s eta 0:00:04\n",
      "   ----------------- ---------------------- 5.9/13.9 MB 2.5 MB/s eta 0:00:04\n",
      "   ----------------- ---------------------- 6.0/13.9 MB 2.5 MB/s eta 0:00:04\n",
      "   ----------------- ---------------------- 6.1/13.9 MB 2.5 MB/s eta 0:00:04\n",
      "   ----------------- ---------------------- 6.2/13.9 MB 2.5 MB/s eta 0:00:04\n",
      "   ------------------ --------------------- 6.3/13.9 MB 2.5 MB/s eta 0:00:04\n",
      "   ------------------ --------------------- 6.4/13.9 MB 2.5 MB/s eta 0:00:04\n",
      "   ------------------ --------------------- 6.5/13.9 MB 2.5 MB/s eta 0:00:04\n",
      "   ------------------ --------------------- 6.6/13.9 MB 2.5 MB/s eta 0:00:03\n",
      "   ------------------- -------------------- 6.7/13.9 MB 2.5 MB/s eta 0:00:03\n",
      "   ------------------- -------------------- 6.9/13.9 MB 2.5 MB/s eta 0:00:03\n",
      "   -------------------- ------------------- 7.0/13.9 MB 2.5 MB/s eta 0:00:03\n",
      "   -------------------- ------------------- 7.0/13.9 MB 2.5 MB/s eta 0:00:03\n",
      "   -------------------- ------------------- 7.1/13.9 MB 2.4 MB/s eta 0:00:03\n",
      "   -------------------- ------------------- 7.2/13.9 MB 2.4 MB/s eta 0:00:03\n",
      "   -------------------- ------------------- 7.3/13.9 MB 2.4 MB/s eta 0:00:03\n",
      "   --------------------- ------------------ 7.4/13.9 MB 2.4 MB/s eta 0:00:03\n",
      "   --------------------- ------------------ 7.6/13.9 MB 2.4 MB/s eta 0:00:03\n",
      "   ---------------------- ----------------- 7.7/13.9 MB 2.4 MB/s eta 0:00:03\n",
      "   ---------------------- ----------------- 7.8/13.9 MB 2.5 MB/s eta 0:00:03\n",
      "   ---------------------- ----------------- 7.9/13.9 MB 2.5 MB/s eta 0:00:03\n",
      "   ----------------------- ---------------- 8.1/13.9 MB 2.5 MB/s eta 0:00:03\n",
      "   ----------------------- ---------------- 8.2/13.9 MB 2.5 MB/s eta 0:00:03\n",
      "   ----------------------- ---------------- 8.3/13.9 MB 2.4 MB/s eta 0:00:03\n",
      "   ----------------------- ---------------- 8.3/13.9 MB 2.4 MB/s eta 0:00:03\n",
      "   ------------------------ --------------- 8.5/13.9 MB 2.4 MB/s eta 0:00:03\n",
      "   ------------------------ --------------- 8.6/13.9 MB 2.4 MB/s eta 0:00:03\n",
      "   ------------------------- -------------- 8.7/13.9 MB 2.4 MB/s eta 0:00:03\n",
      "   ------------------------- -------------- 8.8/13.9 MB 2.4 MB/s eta 0:00:03\n",
      "   ------------------------- -------------- 8.9/13.9 MB 2.4 MB/s eta 0:00:03\n",
      "   -------------------------- ------------- 9.1/13.9 MB 2.4 MB/s eta 0:00:02\n",
      "   -------------------------- ------------- 9.2/13.9 MB 2.4 MB/s eta 0:00:02\n",
      "   -------------------------- ------------- 9.3/13.9 MB 2.5 MB/s eta 0:00:02\n",
      "   --------------------------- ------------ 9.4/13.9 MB 2.4 MB/s eta 0:00:02\n",
      "   --------------------------- ------------ 9.5/13.9 MB 2.5 MB/s eta 0:00:02\n",
      "   --------------------------- ------------ 9.7/13.9 MB 2.4 MB/s eta 0:00:02\n",
      "   ---------------------------- ----------- 9.8/13.9 MB 2.4 MB/s eta 0:00:02\n",
      "   ---------------------------- ----------- 9.9/13.9 MB 2.5 MB/s eta 0:00:02\n",
      "   ---------------------------- ----------- 10.0/13.9 MB 2.5 MB/s eta 0:00:02\n",
      "   ----------------------------- ---------- 10.2/13.9 MB 2.5 MB/s eta 0:00:02\n",
      "   ----------------------------- ---------- 10.3/13.9 MB 2.5 MB/s eta 0:00:02\n",
      "   ----------------------------- ---------- 10.4/13.9 MB 2.5 MB/s eta 0:00:02\n",
      "   ------------------------------ --------- 10.5/13.9 MB 2.5 MB/s eta 0:00:02\n",
      "   ------------------------------ --------- 10.7/13.9 MB 2.5 MB/s eta 0:00:02\n",
      "   ------------------------------ --------- 10.8/13.9 MB 2.5 MB/s eta 0:00:02\n",
      "   ------------------------------- -------- 10.9/13.9 MB 2.5 MB/s eta 0:00:02\n",
      "   ------------------------------- -------- 11.0/13.9 MB 2.5 MB/s eta 0:00:02\n",
      "   -------------------------------- ------- 11.2/13.9 MB 2.5 MB/s eta 0:00:02\n",
      "   -------------------------------- ------- 11.3/13.9 MB 2.5 MB/s eta 0:00:02\n",
      "   -------------------------------- ------- 11.4/13.9 MB 2.5 MB/s eta 0:00:02\n",
      "   --------------------------------- ------ 11.5/13.9 MB 2.5 MB/s eta 0:00:01\n",
      "   --------------------------------- ------ 11.6/13.9 MB 2.5 MB/s eta 0:00:01\n",
      "   --------------------------------- ------ 11.8/13.9 MB 2.5 MB/s eta 0:00:01\n",
      "   ---------------------------------- ----- 11.9/13.9 MB 2.5 MB/s eta 0:00:01\n",
      "   ---------------------------------- ----- 12.0/13.9 MB 2.5 MB/s eta 0:00:01\n",
      "   ---------------------------------- ----- 12.1/13.9 MB 2.5 MB/s eta 0:00:01\n",
      "   ----------------------------------- ---- 12.3/13.9 MB 2.5 MB/s eta 0:00:01\n",
      "   ----------------------------------- ---- 12.4/13.9 MB 2.5 MB/s eta 0:00:01\n",
      "   ----------------------------------- ---- 12.5/13.9 MB 2.5 MB/s eta 0:00:01\n",
      "   ------------------------------------ --- 12.6/13.9 MB 2.5 MB/s eta 0:00:01\n",
      "   ------------------------------------ --- 12.7/13.9 MB 2.5 MB/s eta 0:00:01\n",
      "   ------------------------------------ --- 12.9/13.9 MB 2.5 MB/s eta 0:00:01\n",
      "   ------------------------------------- -- 13.0/13.9 MB 2.5 MB/s eta 0:00:01\n",
      "   ------------------------------------- -- 13.1/13.9 MB 2.5 MB/s eta 0:00:01\n",
      "   -------------------------------------- - 13.2/13.9 MB 2.5 MB/s eta 0:00:01\n",
      "   -------------------------------------- - 13.3/13.9 MB 2.5 MB/s eta 0:00:01\n",
      "   -------------------------------------- - 13.5/13.9 MB 2.5 MB/s eta 0:00:01\n",
      "   ---------------------------------------  13.6/13.9 MB 2.5 MB/s eta 0:00:01\n",
      "   ---------------------------------------  13.7/13.9 MB 2.5 MB/s eta 0:00:01\n",
      "   ---------------------------------------  13.8/13.9 MB 2.5 MB/s eta 0:00:01\n",
      "   ---------------------------------------  13.9/13.9 MB 2.5 MB/s eta 0:00:01\n",
      "   ---------------------------------------- 13.9/13.9 MB 2.5 MB/s eta 0:00:00\n",
      "Downloading catalogue-2.0.10-py3-none-any.whl (17 kB)\n",
      "Downloading cymem-2.0.11-cp312-cp312-win_amd64.whl (39 kB)\n",
      "Downloading langcodes-3.5.0-py3-none-any.whl (182 kB)\n",
      "   ---------------------------------------- 0.0/183.0 kB ? eta -:--:--\n",
      "   -------------------- ------------------- 92.2/183.0 kB 1.7 MB/s eta 0:00:01\n",
      "   ---------------------------------------- 183.0/183.0 kB 1.9 MB/s eta 0:00:00\n",
      "Downloading murmurhash-1.0.13-cp312-cp312-win_amd64.whl (24 kB)\n",
      "Downloading preshed-3.0.10-cp312-cp312-win_amd64.whl (116 kB)\n",
      "   ---------------------------------------- 0.0/116.7 kB ? eta -:--:--\n",
      "   ------------------------------- -------- 92.2/116.7 kB 2.6 MB/s eta 0:00:01\n",
      "   ---------------------------------------- 116.7/116.7 kB 2.3 MB/s eta 0:00:00\n",
      "Downloading spacy_legacy-3.0.12-py2.py3-none-any.whl (29 kB)\n",
      "Downloading spacy_loggers-1.0.5-py3-none-any.whl (22 kB)\n",
      "Downloading srsly-2.5.1-cp312-cp312-win_amd64.whl (632 kB)\n",
      "   ---------------------------------------- 0.0/632.6 kB ? eta -:--:--\n",
      "   ------ --------------------------------- 102.4/632.6 kB 2.9 MB/s eta 0:00:01\n",
      "   ------------ --------------------------- 204.8/632.6 kB 2.5 MB/s eta 0:00:01\n",
      "   --------------------- ------------------ 337.9/632.6 kB 2.6 MB/s eta 0:00:01\n",
      "   ----------------------------- ---------- 471.0/632.6 kB 2.7 MB/s eta 0:00:01\n",
      "   ------------------------------------ --- 583.7/632.6 kB 2.8 MB/s eta 0:00:01\n",
      "   ---------------------------------------- 632.6/632.6 kB 2.6 MB/s eta 0:00:00\n",
      "Downloading thinc-8.3.6-cp312-cp312-win_amd64.whl (1.7 MB)\n",
      "   ---------------------------------------- 0.0/1.7 MB ? eta -:--:--\n",
      "   -- ------------------------------------- 0.1/1.7 MB 2.4 MB/s eta 0:00:01\n",
      "   ----- ---------------------------------- 0.2/1.7 MB 2.9 MB/s eta 0:00:01\n",
      "   ------- -------------------------------- 0.3/1.7 MB 2.7 MB/s eta 0:00:01\n",
      "   ----------- ---------------------------- 0.5/1.7 MB 2.6 MB/s eta 0:00:01\n",
      "   ------------- -------------------------- 0.6/1.7 MB 2.7 MB/s eta 0:00:01\n",
      "   ---------------- ----------------------- 0.7/1.7 MB 2.7 MB/s eta 0:00:01\n",
      "   ------------------- -------------------- 0.8/1.7 MB 2.7 MB/s eta 0:00:01\n",
      "   ---------------------- ----------------- 1.0/1.7 MB 2.7 MB/s eta 0:00:01\n",
      "   ------------------------ --------------- 1.1/1.7 MB 2.6 MB/s eta 0:00:01\n",
      "   --------------------------- ------------ 1.2/1.7 MB 2.6 MB/s eta 0:00:01\n",
      "   ------------------------------ --------- 1.3/1.7 MB 2.6 MB/s eta 0:00:01\n",
      "   --------------------------------- ------ 1.5/1.7 MB 2.6 MB/s eta 0:00:01\n",
      "   ------------------------------------ --- 1.6/1.7 MB 2.7 MB/s eta 0:00:01\n",
      "   ---------------------------------------  1.7/1.7 MB 2.7 MB/s eta 0:00:01\n",
      "   ---------------------------------------- 1.7/1.7 MB 2.7 MB/s eta 0:00:00\n",
      "Downloading numpy-2.3.0-cp312-cp312-win_amd64.whl (12.7 MB)\n",
      "   ---------------------------------------- 0.0/12.7 MB ? eta -:--:--\n",
      "   ---------------------------------------- 0.1/12.7 MB 2.6 MB/s eta 0:00:05\n",
      "    --------------------------------------- 0.2/12.7 MB 2.5 MB/s eta 0:00:06\n",
      "    --------------------------------------- 0.3/12.7 MB 2.4 MB/s eta 0:00:06\n",
      "   - -------------------------------------- 0.4/12.7 MB 2.4 MB/s eta 0:00:06\n",
      "   - -------------------------------------- 0.5/12.7 MB 2.2 MB/s eta 0:00:06\n",
      "   - -------------------------------------- 0.6/12.7 MB 2.2 MB/s eta 0:00:06\n",
      "   -- ------------------------------------- 0.7/12.7 MB 2.2 MB/s eta 0:00:06\n",
      "   -- ------------------------------------- 0.8/12.7 MB 2.3 MB/s eta 0:00:06\n",
      "   -- ------------------------------------- 0.9/12.7 MB 2.2 MB/s eta 0:00:06\n",
      "   --- ------------------------------------ 1.0/12.7 MB 2.3 MB/s eta 0:00:06\n",
      "   --- ------------------------------------ 1.2/12.7 MB 2.3 MB/s eta 0:00:05\n",
      "   ---- ----------------------------------- 1.3/12.7 MB 2.4 MB/s eta 0:00:05\n",
      "   ---- ----------------------------------- 1.4/12.7 MB 2.4 MB/s eta 0:00:05\n",
      "   ---- ----------------------------------- 1.5/12.7 MB 2.3 MB/s eta 0:00:05\n",
      "   ----- ---------------------------------- 1.6/12.7 MB 2.3 MB/s eta 0:00:05\n",
      "   ----- ---------------------------------- 1.7/12.7 MB 2.4 MB/s eta 0:00:05\n",
      "   ----- ---------------------------------- 1.8/12.7 MB 2.3 MB/s eta 0:00:05\n",
      "   ------ --------------------------------- 2.0/12.7 MB 2.4 MB/s eta 0:00:05\n",
      "   ------ --------------------------------- 2.1/12.7 MB 2.4 MB/s eta 0:00:05\n",
      "   ------- -------------------------------- 2.2/12.7 MB 2.4 MB/s eta 0:00:05\n",
      "   ------- -------------------------------- 2.3/12.7 MB 2.4 MB/s eta 0:00:05\n",
      "   ------- -------------------------------- 2.5/12.7 MB 2.4 MB/s eta 0:00:05\n",
      "   -------- ------------------------------- 2.6/12.7 MB 2.4 MB/s eta 0:00:05\n",
      "   -------- ------------------------------- 2.7/12.7 MB 2.5 MB/s eta 0:00:05\n",
      "   -------- ------------------------------- 2.9/12.7 MB 2.5 MB/s eta 0:00:05\n",
      "   --------- ------------------------------ 3.0/12.7 MB 2.5 MB/s eta 0:00:04\n",
      "   --------- ------------------------------ 3.1/12.7 MB 2.5 MB/s eta 0:00:04\n",
      "   ---------- ----------------------------- 3.2/12.7 MB 2.5 MB/s eta 0:00:04\n",
      "   ---------- ----------------------------- 3.4/12.7 MB 2.5 MB/s eta 0:00:04\n",
      "   ---------- ----------------------------- 3.5/12.7 MB 2.5 MB/s eta 0:00:04\n",
      "   ----------- ---------------------------- 3.6/12.7 MB 2.5 MB/s eta 0:00:04\n",
      "   ----------- ---------------------------- 3.7/12.7 MB 2.5 MB/s eta 0:00:04\n",
      "   ------------ --------------------------- 3.9/12.7 MB 2.5 MB/s eta 0:00:04\n",
      "   ------------ --------------------------- 4.0/12.7 MB 2.5 MB/s eta 0:00:04\n",
      "   ------------ --------------------------- 4.1/12.7 MB 2.5 MB/s eta 0:00:04\n",
      "   ------------- -------------------------- 4.2/12.7 MB 2.5 MB/s eta 0:00:04\n",
      "   ------------- -------------------------- 4.3/12.7 MB 2.5 MB/s eta 0:00:04\n",
      "   -------------- ------------------------- 4.5/12.7 MB 2.6 MB/s eta 0:00:04\n",
      "   -------------- ------------------------- 4.6/12.7 MB 2.6 MB/s eta 0:00:04\n",
      "   -------------- ------------------------- 4.7/12.7 MB 2.6 MB/s eta 0:00:04\n",
      "   --------------- ------------------------ 4.9/12.7 MB 2.6 MB/s eta 0:00:04\n",
      "   --------------- ------------------------ 5.0/12.7 MB 2.6 MB/s eta 0:00:04\n",
      "   ---------------- ----------------------- 5.1/12.7 MB 2.6 MB/s eta 0:00:03\n",
      "   ---------------- ----------------------- 5.2/12.7 MB 2.6 MB/s eta 0:00:03\n",
      "   ---------------- ----------------------- 5.3/12.7 MB 2.6 MB/s eta 0:00:03\n",
      "   ----------------- ---------------------- 5.5/12.7 MB 2.6 MB/s eta 0:00:03\n",
      "   ----------------- ---------------------- 5.6/12.7 MB 2.6 MB/s eta 0:00:03\n",
      "   ----------------- ---------------------- 5.7/12.7 MB 2.6 MB/s eta 0:00:03\n",
      "   ------------------ --------------------- 5.9/12.7 MB 2.6 MB/s eta 0:00:03\n",
      "   ------------------ --------------------- 6.0/12.7 MB 2.6 MB/s eta 0:00:03\n",
      "   ------------------- -------------------- 6.1/12.7 MB 2.6 MB/s eta 0:00:03\n",
      "   ------------------- -------------------- 6.2/12.7 MB 2.6 MB/s eta 0:00:03\n",
      "   ------------------- -------------------- 6.3/12.7 MB 2.5 MB/s eta 0:00:03\n",
      "   ------------------- -------------------- 6.4/12.7 MB 2.5 MB/s eta 0:00:03\n",
      "   -------------------- ------------------- 6.5/12.7 MB 2.5 MB/s eta 0:00:03\n",
      "   -------------------- ------------------- 6.6/12.7 MB 2.6 MB/s eta 0:00:03\n",
      "   --------------------- ------------------ 6.7/12.7 MB 2.5 MB/s eta 0:00:03\n",
      "   --------------------- ------------------ 6.9/12.7 MB 2.6 MB/s eta 0:00:03\n",
      "   --------------------- ------------------ 7.0/12.7 MB 2.5 MB/s eta 0:00:03\n",
      "   ---------------------- ----------------- 7.1/12.7 MB 2.6 MB/s eta 0:00:03\n",
      "   ---------------------- ----------------- 7.2/12.7 MB 2.6 MB/s eta 0:00:03\n",
      "   ----------------------- ---------------- 7.4/12.7 MB 2.6 MB/s eta 0:00:03\n",
      "   ----------------------- ---------------- 7.5/12.7 MB 2.6 MB/s eta 0:00:03\n",
      "   ----------------------- ---------------- 7.6/12.7 MB 2.6 MB/s eta 0:00:02\n",
      "   ------------------------ --------------- 7.8/12.7 MB 2.6 MB/s eta 0:00:02\n",
      "   ------------------------ --------------- 7.9/12.7 MB 2.6 MB/s eta 0:00:02\n",
      "   ------------------------- -------------- 8.0/12.7 MB 2.6 MB/s eta 0:00:02\n",
      "   ------------------------- -------------- 8.1/12.7 MB 2.6 MB/s eta 0:00:02\n",
      "   ------------------------- -------------- 8.2/12.7 MB 2.6 MB/s eta 0:00:02\n",
      "   -------------------------- ------------- 8.4/12.7 MB 2.6 MB/s eta 0:00:02\n",
      "   -------------------------- ------------- 8.5/12.7 MB 2.6 MB/s eta 0:00:02\n",
      "   --------------------------- ------------ 8.6/12.7 MB 2.6 MB/s eta 0:00:02\n",
      "   --------------------------- ------------ 8.7/12.7 MB 2.6 MB/s eta 0:00:02\n",
      "   --------------------------- ------------ 8.8/12.7 MB 2.6 MB/s eta 0:00:02\n",
      "   ---------------------------- ----------- 9.0/12.7 MB 2.6 MB/s eta 0:00:02\n",
      "   ---------------------------- ----------- 9.1/12.7 MB 2.6 MB/s eta 0:00:02\n",
      "   ---------------------------- ----------- 9.2/12.7 MB 2.6 MB/s eta 0:00:02\n",
      "   ----------------------------- ---------- 9.3/12.7 MB 2.6 MB/s eta 0:00:02\n",
      "   ----------------------------- ---------- 9.5/12.7 MB 2.6 MB/s eta 0:00:02\n",
      "   ------------------------------ --------- 9.6/12.7 MB 2.6 MB/s eta 0:00:02\n",
      "   ------------------------------ --------- 9.7/12.7 MB 2.6 MB/s eta 0:00:02\n",
      "   ------------------------------ --------- 9.9/12.7 MB 2.6 MB/s eta 0:00:02\n",
      "   ------------------------------- -------- 10.0/12.7 MB 2.6 MB/s eta 0:00:02\n",
      "   ------------------------------- -------- 10.1/12.7 MB 2.6 MB/s eta 0:00:02\n",
      "   -------------------------------- ------- 10.2/12.7 MB 2.6 MB/s eta 0:00:01\n",
      "   -------------------------------- ------- 10.3/12.7 MB 2.6 MB/s eta 0:00:01\n",
      "   -------------------------------- ------- 10.4/12.7 MB 2.6 MB/s eta 0:00:01\n",
      "   --------------------------------- ------ 10.5/12.7 MB 2.6 MB/s eta 0:00:01\n",
      "   --------------------------------- ------ 10.7/12.7 MB 2.6 MB/s eta 0:00:01\n",
      "   --------------------------------- ------ 10.8/12.7 MB 2.6 MB/s eta 0:00:01\n",
      "   ---------------------------------- ----- 10.9/12.7 MB 2.6 MB/s eta 0:00:01\n",
      "   ---------------------------------- ----- 11.0/12.7 MB 2.6 MB/s eta 0:00:01\n",
      "   ----------------------------------- ---- 11.2/12.7 MB 2.6 MB/s eta 0:00:01\n",
      "   ----------------------------------- ---- 11.3/12.7 MB 2.6 MB/s eta 0:00:01\n",
      "   ----------------------------------- ---- 11.4/12.7 MB 2.6 MB/s eta 0:00:01\n",
      "   ------------------------------------ --- 11.6/12.7 MB 2.6 MB/s eta 0:00:01\n",
      "   ------------------------------------ --- 11.6/12.7 MB 2.6 MB/s eta 0:00:01\n",
      "   ------------------------------------ --- 11.7/12.7 MB 2.6 MB/s eta 0:00:01\n",
      "   ------------------------------------- -- 11.9/12.7 MB 2.6 MB/s eta 0:00:01\n",
      "   ------------------------------------- -- 12.0/12.7 MB 2.6 MB/s eta 0:00:01\n",
      "   ------------------------------------- -- 12.1/12.7 MB 2.6 MB/s eta 0:00:01\n",
      "   -------------------------------------- - 12.2/12.7 MB 2.6 MB/s eta 0:00:01\n",
      "   -------------------------------------- - 12.3/12.7 MB 2.6 MB/s eta 0:00:01\n",
      "   ---------------------------------------  12.5/12.7 MB 2.6 MB/s eta 0:00:01\n",
      "   ---------------------------------------  12.6/12.7 MB 2.6 MB/s eta 0:00:01\n",
      "   ---------------------------------------  12.7/12.7 MB 2.6 MB/s eta 0:00:01\n",
      "   ---------------------------------------- 12.7/12.7 MB 2.6 MB/s eta 0:00:00\n",
      "Downloading typer-0.16.0-py3-none-any.whl (46 kB)\n",
      "   ---------------------------------------- 0.0/46.3 kB ? eta -:--:--\n",
      "   ---------------------------------------- 46.3/46.3 kB 2.3 MB/s eta 0:00:00\n",
      "Downloading wasabi-1.1.3-py3-none-any.whl (27 kB)\n",
      "Downloading weasel-0.4.1-py3-none-any.whl (50 kB)\n",
      "   ---------------------------------------- 0.0/50.3 kB ? eta -:--:--\n",
      "   ---------------------------------------- 50.3/50.3 kB 2.7 MB/s eta 0:00:00\n",
      "Downloading blis-1.3.0-cp312-cp312-win_amd64.whl (6.3 MB)\n",
      "   ---------------------------------------- 0.0/6.3 MB ? eta -:--:--\n",
      "    --------------------------------------- 0.1/6.3 MB 3.6 MB/s eta 0:00:02\n",
      "   - -------------------------------------- 0.2/6.3 MB 2.4 MB/s eta 0:00:03\n",
      "   -- ------------------------------------- 0.4/6.3 MB 2.6 MB/s eta 0:00:03\n",
      "   --- ------------------------------------ 0.5/6.3 MB 2.5 MB/s eta 0:00:03\n",
      "   --- ------------------------------------ 0.6/6.3 MB 2.7 MB/s eta 0:00:03\n",
      "   ---- ----------------------------------- 0.7/6.3 MB 2.7 MB/s eta 0:00:03\n",
      "   ----- ---------------------------------- 0.8/6.3 MB 2.6 MB/s eta 0:00:03\n",
      "   ------ --------------------------------- 0.9/6.3 MB 2.6 MB/s eta 0:00:03\n",
      "   ------ --------------------------------- 1.1/6.3 MB 2.6 MB/s eta 0:00:02\n",
      "   ------- -------------------------------- 1.2/6.3 MB 2.6 MB/s eta 0:00:02\n",
      "   -------- ------------------------------- 1.3/6.3 MB 2.6 MB/s eta 0:00:02\n",
      "   --------- ------------------------------ 1.4/6.3 MB 2.6 MB/s eta 0:00:02\n",
      "   --------- ------------------------------ 1.5/6.3 MB 2.6 MB/s eta 0:00:02\n",
      "   ---------- ----------------------------- 1.7/6.3 MB 2.6 MB/s eta 0:00:02\n",
      "   ----------- ---------------------------- 1.8/6.3 MB 2.6 MB/s eta 0:00:02\n",
      "   ----------- ---------------------------- 1.9/6.3 MB 2.6 MB/s eta 0:00:02\n",
      "   ------------ --------------------------- 2.0/6.3 MB 2.5 MB/s eta 0:00:02\n",
      "   ------------- -------------------------- 2.1/6.3 MB 2.5 MB/s eta 0:00:02\n",
      "   -------------- ------------------------- 2.2/6.3 MB 2.5 MB/s eta 0:00:02\n",
      "   -------------- ------------------------- 2.3/6.3 MB 2.5 MB/s eta 0:00:02\n",
      "   --------------- ------------------------ 2.4/6.3 MB 2.5 MB/s eta 0:00:02\n",
      "   ---------------- ----------------------- 2.6/6.3 MB 2.5 MB/s eta 0:00:02\n",
      "   ----------------- ---------------------- 2.7/6.3 MB 2.5 MB/s eta 0:00:02\n",
      "   ----------------- ---------------------- 2.8/6.3 MB 2.5 MB/s eta 0:00:02\n",
      "   ------------------ --------------------- 2.9/6.3 MB 2.5 MB/s eta 0:00:02\n",
      "   ------------------- -------------------- 3.0/6.3 MB 2.5 MB/s eta 0:00:02\n",
      "   ------------------- -------------------- 3.1/6.3 MB 2.5 MB/s eta 0:00:02\n",
      "   -------------------- ------------------- 3.2/6.3 MB 2.5 MB/s eta 0:00:02\n",
      "   --------------------- ------------------ 3.3/6.3 MB 2.5 MB/s eta 0:00:02\n",
      "   ---------------------- ----------------- 3.5/6.3 MB 2.5 MB/s eta 0:00:02\n",
      "   ---------------------- ----------------- 3.6/6.3 MB 2.5 MB/s eta 0:00:02\n",
      "   ----------------------- ---------------- 3.7/6.3 MB 2.5 MB/s eta 0:00:01\n",
      "   ------------------------ --------------- 3.9/6.3 MB 2.5 MB/s eta 0:00:01\n",
      "   ------------------------- -------------- 4.0/6.3 MB 2.5 MB/s eta 0:00:01\n",
      "   -------------------------- ------------- 4.1/6.3 MB 2.5 MB/s eta 0:00:01\n",
      "   --------------------------- ------------ 4.3/6.3 MB 2.5 MB/s eta 0:00:01\n",
      "   ---------------------------- ----------- 4.4/6.3 MB 2.5 MB/s eta 0:00:01\n",
      "   ---------------------------- ----------- 4.5/6.3 MB 2.6 MB/s eta 0:00:01\n",
      "   ----------------------------- ---------- 4.6/6.3 MB 2.5 MB/s eta 0:00:01\n",
      "   ------------------------------ --------- 4.7/6.3 MB 2.5 MB/s eta 0:00:01\n",
      "   ------------------------------ --------- 4.8/6.3 MB 2.5 MB/s eta 0:00:01\n",
      "   ------------------------------- -------- 5.0/6.3 MB 2.5 MB/s eta 0:00:01\n",
      "   -------------------------------- ------- 5.1/6.3 MB 2.5 MB/s eta 0:00:01\n",
      "   --------------------------------- ------ 5.2/6.3 MB 2.5 MB/s eta 0:00:01\n",
      "   --------------------------------- ------ 5.3/6.3 MB 2.5 MB/s eta 0:00:01\n",
      "   ---------------------------------- ----- 5.4/6.3 MB 2.5 MB/s eta 0:00:01\n",
      "   ----------------------------------- ---- 5.6/6.3 MB 2.5 MB/s eta 0:00:01\n",
      "   ------------------------------------ --- 5.7/6.3 MB 2.5 MB/s eta 0:00:01\n",
      "   ------------------------------------- -- 5.8/6.3 MB 2.5 MB/s eta 0:00:01\n",
      "   ------------------------------------- -- 5.9/6.3 MB 2.5 MB/s eta 0:00:01\n",
      "   -------------------------------------- - 6.0/6.3 MB 2.5 MB/s eta 0:00:01\n",
      "   ---------------------------------------  6.1/6.3 MB 2.5 MB/s eta 0:00:01\n",
      "   ---------------------------------------  6.3/6.3 MB 2.5 MB/s eta 0:00:01\n",
      "   ---------------------------------------- 6.3/6.3 MB 2.5 MB/s eta 0:00:00\n",
      "Downloading cloudpathlib-0.21.1-py3-none-any.whl (52 kB)\n",
      "   ---------------------------------------- 0.0/52.8 kB ? eta -:--:--\n",
      "   ---------------------------------------- 52.8/52.8 kB 2.8 MB/s eta 0:00:00\n",
      "Downloading confection-0.1.5-py3-none-any.whl (35 kB)\n",
      "Downloading language_data-1.3.0-py3-none-any.whl (5.4 MB)\n",
      "   ---------------------------------------- 0.0/5.4 MB ? eta -:--:--\n",
      "   ---------------------------------------- 0.1/5.4 MB 1.7 MB/s eta 0:00:04\n",
      "   - -------------------------------------- 0.2/5.4 MB 2.5 MB/s eta 0:00:03\n",
      "   -- ------------------------------------- 0.3/5.4 MB 2.5 MB/s eta 0:00:03\n",
      "   --- ------------------------------------ 0.5/5.4 MB 2.6 MB/s eta 0:00:02\n",
      "   ---- ----------------------------------- 0.6/5.4 MB 2.5 MB/s eta 0:00:02\n",
      "   ----- ---------------------------------- 0.7/5.4 MB 2.6 MB/s eta 0:00:02\n",
      "   ------ --------------------------------- 0.8/5.4 MB 2.6 MB/s eta 0:00:02\n",
      "   ------ --------------------------------- 0.9/5.4 MB 2.6 MB/s eta 0:00:02\n",
      "   ------- -------------------------------- 1.1/5.4 MB 2.6 MB/s eta 0:00:02\n",
      "   -------- ------------------------------- 1.2/5.4 MB 2.6 MB/s eta 0:00:02\n",
      "   --------- ------------------------------ 1.3/5.4 MB 2.6 MB/s eta 0:00:02\n",
      "   ---------- ----------------------------- 1.4/5.4 MB 2.6 MB/s eta 0:00:02\n",
      "   ----------- ---------------------------- 1.6/5.4 MB 2.6 MB/s eta 0:00:02\n",
      "   ------------ --------------------------- 1.7/5.4 MB 2.5 MB/s eta 0:00:02\n",
      "   ------------- -------------------------- 1.8/5.4 MB 2.6 MB/s eta 0:00:02\n",
      "   -------------- ------------------------- 1.9/5.4 MB 2.5 MB/s eta 0:00:02\n",
      "   --------------- ------------------------ 2.0/5.4 MB 2.6 MB/s eta 0:00:02\n",
      "   --------------- ------------------------ 2.1/5.4 MB 2.6 MB/s eta 0:00:02\n",
      "   ---------------- ----------------------- 2.2/5.4 MB 2.6 MB/s eta 0:00:02\n",
      "   ----------------- ---------------------- 2.3/5.4 MB 2.5 MB/s eta 0:00:02\n",
      "   ----------------- ---------------------- 2.4/5.4 MB 2.5 MB/s eta 0:00:02\n",
      "   ------------------ --------------------- 2.5/5.4 MB 2.5 MB/s eta 0:00:02\n",
      "   ------------------- -------------------- 2.7/5.4 MB 2.5 MB/s eta 0:00:02\n",
      "   -------------------- ------------------- 2.8/5.4 MB 2.5 MB/s eta 0:00:02\n",
      "   --------------------- ------------------ 2.9/5.4 MB 2.5 MB/s eta 0:00:01\n",
      "   ---------------------- ----------------- 3.0/5.4 MB 2.5 MB/s eta 0:00:01\n",
      "   ----------------------- ---------------- 3.1/5.4 MB 2.5 MB/s eta 0:00:01\n",
      "   ------------------------ --------------- 3.3/5.4 MB 2.5 MB/s eta 0:00:01\n",
      "   ------------------------- -------------- 3.4/5.4 MB 2.5 MB/s eta 0:00:01\n",
      "   -------------------------- ------------- 3.5/5.4 MB 2.5 MB/s eta 0:00:01\n",
      "   --------------------------- ------------ 3.6/5.4 MB 2.5 MB/s eta 0:00:01\n",
      "   --------------------------- ------------ 3.7/5.4 MB 2.5 MB/s eta 0:00:01\n",
      "   ---------------------------- ----------- 3.9/5.4 MB 2.5 MB/s eta 0:00:01\n",
      "   ----------------------------- ---------- 4.0/5.4 MB 2.5 MB/s eta 0:00:01\n",
      "   ------------------------------ --------- 4.1/5.4 MB 2.5 MB/s eta 0:00:01\n",
      "   ------------------------------- -------- 4.2/5.4 MB 2.5 MB/s eta 0:00:01\n",
      "   -------------------------------- ------- 4.3/5.4 MB 2.5 MB/s eta 0:00:01\n",
      "   -------------------------------- ------- 4.4/5.4 MB 2.5 MB/s eta 0:00:01\n",
      "   --------------------------------- ------ 4.5/5.4 MB 2.5 MB/s eta 0:00:01\n",
      "   ---------------------------------- ----- 4.6/5.4 MB 2.5 MB/s eta 0:00:01\n",
      "   ----------------------------------- ---- 4.7/5.4 MB 2.5 MB/s eta 0:00:01\n",
      "   ------------------------------------ --- 4.9/5.4 MB 2.5 MB/s eta 0:00:01\n",
      "   ------------------------------------ --- 5.0/5.4 MB 2.5 MB/s eta 0:00:01\n",
      "   ------------------------------------- -- 5.1/5.4 MB 2.5 MB/s eta 0:00:01\n",
      "   -------------------------------------- - 5.2/5.4 MB 2.5 MB/s eta 0:00:01\n",
      "   ---------------------------------------  5.3/5.4 MB 2.5 MB/s eta 0:00:01\n",
      "   ---------------------------------------- 5.4/5.4 MB 2.5 MB/s eta 0:00:00\n",
      "Downloading shellingham-1.5.4-py2.py3-none-any.whl (9.8 kB)\n",
      "Downloading marisa_trie-1.2.1-cp312-cp312-win_amd64.whl (150 kB)\n",
      "   ---------------------------------------- 0.0/150.8 kB ? eta -:--:--\n",
      "   --------------------------- ------------ 102.4/150.8 kB 3.0 MB/s eta 0:00:01\n",
      "   ---------------------------------------- 150.8/150.8 kB 2.3 MB/s eta 0:00:00\n",
      "Installing collected packages: cymem, wasabi, spacy-loggers, spacy-legacy, shellingham, numpy, murmurhash, marisa-trie, cloudpathlib, catalogue, srsly, preshed, language-data, blis, typer, langcodes, confection, weasel, thinc, spacy\n",
      "  Attempting uninstall: numpy\n",
      "    Found existing installation: numpy 1.26.4\n",
      "    Uninstalling numpy-1.26.4:\n",
      "      Successfully uninstalled numpy-1.26.4\n",
      "Successfully installed blis-1.3.0 catalogue-2.0.10 cloudpathlib-0.21.1 confection-0.1.5 cymem-2.0.11 langcodes-3.5.0 language-data-1.3.0 marisa-trie-1.2.1 murmurhash-1.0.13 numpy-2.3.0 preshed-3.0.10 shellingham-1.5.4 spacy-3.8.7 spacy-legacy-3.0.12 spacy-loggers-1.0.5 srsly-2.5.1 thinc-8.3.6 typer-0.16.0 wasabi-1.1.3 weasel-0.4.1\n"
     ]
    },
    {
     "name": "stderr",
     "output_type": "stream",
     "text": [
      "  WARNING: Failed to remove contents in a temporary directory 'C:\\ProgramData\\anaconda3_2024-06-1\\Lib\\site-packages\\~umpy'.\n",
      "  You can safely remove it manually.\n",
      "ERROR: pip's dependency resolver does not currently take into account all the packages that are installed. This behaviour is the source of the following dependency conflicts.\n",
      "contourpy 1.2.0 requires numpy<2.0,>=1.20, but you have numpy 2.3.0 which is incompatible.\n",
      "numba 0.59.1 requires numpy<1.27,>=1.22, but you have numpy 2.3.0 which is incompatible.\n",
      "pywavelets 1.5.0 requires numpy<2.0,>=1.22.4, but you have numpy 2.3.0 which is incompatible.\n",
      "scipy 1.13.1 requires numpy<2.3,>=1.22.4, but you have numpy 2.3.0 which is incompatible.\n",
      "streamlit 1.32.0 requires numpy<2,>=1.19.3, but you have numpy 2.3.0 which is incompatible.\n"
     ]
    }
   ],
   "source": [
    "#lemmatization (updated version of Stemming)\n",
    "!pip install spacy\n"
   ]
  },
  {
   "cell_type": "code",
   "execution_count": null,
   "id": "078f4b9a-3c99-4ce5-8cac-e3caf834add1",
   "metadata": {},
   "outputs": [],
   "source": [
    "\n"
   ]
  },
  {
   "cell_type": "code",
   "execution_count": null,
   "id": "411816d4-bdbf-4f7e-ba49-480753cb5dd9",
   "metadata": {},
   "outputs": [],
   "source": [
    "!python -m spacy download en_core_web_sm"
   ]
  },
  {
   "cell_type": "code",
   "execution_count": 304,
   "id": "ebee5b95-57de-4257-88dd-a3c50a65036c",
   "metadata": {},
   "outputs": [
    {
     "name": "stderr",
     "output_type": "stream",
     "text": [
      "Traceback (most recent call last):\n",
      "  File \"<frozen runpy>\", line 189, in _run_module_as_main\n",
      "  File \"<frozen runpy>\", line 148, in _get_module_details\n",
      "  File \"<frozen runpy>\", line 112, in _get_module_details\n",
      "  File \"C:\\ProgramData\\anaconda3_2024-06-1\\Lib\\site-packages\\spacy\\__init__.py\", line 6, in <module>\n",
      "    from .errors import setup_default_warnings\n",
      "  File \"C:\\ProgramData\\anaconda3_2024-06-1\\Lib\\site-packages\\spacy\\errors.py\", line 3, in <module>\n",
      "    from .compat import Literal\n",
      "  File \"C:\\ProgramData\\anaconda3_2024-06-1\\Lib\\site-packages\\spacy\\compat.py\", line 4, in <module>\n",
      "    from thinc.util import copy_array\n",
      "  File \"C:\\ProgramData\\anaconda3_2024-06-1\\Lib\\site-packages\\thinc\\__init__.py\", line 5, in <module>\n",
      "    from .config import registry\n",
      "  File \"C:\\ProgramData\\anaconda3_2024-06-1\\Lib\\site-packages\\thinc\\config.py\", line 5, in <module>\n",
      "    from .types import Decorator\n",
      "  File \"C:\\ProgramData\\anaconda3_2024-06-1\\Lib\\site-packages\\thinc\\types.py\", line 27, in <module>\n",
      "    from .compat import cupy, has_cupy\n",
      "  File \"C:\\ProgramData\\anaconda3_2024-06-1\\Lib\\site-packages\\thinc\\compat.py\", line 99, in <module>\n",
      "    import h5py\n",
      "  File \"C:\\ProgramData\\anaconda3_2024-06-1\\Lib\\site-packages\\h5py\\__init__.py\", line 45, in <module>\n",
      "    from ._conv import register_converters as _register_converters, \\\n",
      "  File \"h5py\\\\_conv.pyx\", line 1, in init h5py._conv\n",
      "  File \"h5py\\\\h5r.pyx\", line 1, in init h5py.h5r\n",
      "  File \"h5py\\\\h5p.pyx\", line 1, in init h5py.h5p\n",
      "ValueError: numpy.dtype size changed, may indicate binary incompatibility. Expected 96 from C header, got 88 from PyObject\n"
     ]
    },
    {
     "ename": "ImportError",
     "evalue": "numpy.core.multiarray failed to import (auto-generated because you didn't call 'numpy.import_array()' after cimporting numpy; use '<void>numpy._import_array' to disable if you are certain you don't need it).",
     "output_type": "error",
     "traceback": [
      "\u001b[1;31m---------------------------------------------------------------------------\u001b[0m",
      "\u001b[1;31mImportError\u001b[0m                               Traceback (most recent call last)",
      "Cell \u001b[1;32mIn[304], line 2\u001b[0m\n\u001b[0;32m      1\u001b[0m get_ipython()\u001b[38;5;241m.\u001b[39msystem(\u001b[38;5;124m'\u001b[39m\u001b[38;5;124mpython -m spacy download en_core_web_sm\u001b[39m\u001b[38;5;124m'\u001b[39m)\n\u001b[1;32m----> 2\u001b[0m \u001b[38;5;28;01mimport\u001b[39;00m \u001b[38;5;21;01mspacy\u001b[39;00m\n\u001b[0;32m      3\u001b[0m nlp \u001b[38;5;241m=\u001b[39m spacy\u001b[38;5;241m.\u001b[39mload(\u001b[38;5;124m\"\u001b[39m\u001b[38;5;124men_core_web_sm\u001b[39m\u001b[38;5;124m\"\u001b[39m)\n\u001b[0;32m      5\u001b[0m \u001b[38;5;28;01mdef\u001b[39;00m \u001b[38;5;21mlemmatize_text\u001b[39m(text):\n",
      "File \u001b[1;32mC:\\ProgramData\\anaconda3_2024-06-1\\Lib\\site-packages\\spacy\\__init__.py:6\u001b[0m\n\u001b[0;32m      3\u001b[0m \u001b[38;5;28;01mfrom\u001b[39;00m \u001b[38;5;21;01mtyping\u001b[39;00m \u001b[38;5;28;01mimport\u001b[39;00m Any, Dict, Iterable, Union\n\u001b[0;32m      5\u001b[0m \u001b[38;5;66;03m# set library-specific custom warning handling before doing anything else\u001b[39;00m\n\u001b[1;32m----> 6\u001b[0m \u001b[38;5;28;01mfrom\u001b[39;00m \u001b[38;5;21;01m.\u001b[39;00m\u001b[38;5;21;01merrors\u001b[39;00m \u001b[38;5;28;01mimport\u001b[39;00m setup_default_warnings\n\u001b[0;32m      8\u001b[0m setup_default_warnings()  \u001b[38;5;66;03m# noqa: E402\u001b[39;00m\n\u001b[0;32m     10\u001b[0m \u001b[38;5;66;03m# These are imported as part of the API\u001b[39;00m\n",
      "File \u001b[1;32mC:\\ProgramData\\anaconda3_2024-06-1\\Lib\\site-packages\\spacy\\errors.py:3\u001b[0m\n\u001b[0;32m      1\u001b[0m \u001b[38;5;28;01mimport\u001b[39;00m \u001b[38;5;21;01mwarnings\u001b[39;00m\n\u001b[1;32m----> 3\u001b[0m \u001b[38;5;28;01mfrom\u001b[39;00m \u001b[38;5;21;01m.\u001b[39;00m\u001b[38;5;21;01mcompat\u001b[39;00m \u001b[38;5;28;01mimport\u001b[39;00m Literal\n\u001b[0;32m      6\u001b[0m \u001b[38;5;28;01mclass\u001b[39;00m \u001b[38;5;21;01mErrorsWithCodes\u001b[39;00m(\u001b[38;5;28mtype\u001b[39m):\n\u001b[0;32m      7\u001b[0m     \u001b[38;5;28;01mdef\u001b[39;00m \u001b[38;5;21m__getattribute__\u001b[39m(\u001b[38;5;28mself\u001b[39m, code):\n",
      "File \u001b[1;32mC:\\ProgramData\\anaconda3_2024-06-1\\Lib\\site-packages\\spacy\\compat.py:39\u001b[0m\n\u001b[0;32m     36\u001b[0m \u001b[38;5;28;01mexcept\u001b[39;00m \u001b[38;5;167;01mImportError\u001b[39;00m:\n\u001b[0;32m     37\u001b[0m     \u001b[38;5;28;01mfrom\u001b[39;00m \u001b[38;5;21;01mcatalogue\u001b[39;00m \u001b[38;5;28;01mimport\u001b[39;00m _importlib_metadata \u001b[38;5;28;01mas\u001b[39;00m importlib_metadata  \u001b[38;5;66;03m# type: ignore[no-redef]    # noqa: F401\u001b[39;00m\n\u001b[1;32m---> 39\u001b[0m \u001b[38;5;28;01mfrom\u001b[39;00m \u001b[38;5;21;01mthinc\u001b[39;00m\u001b[38;5;21;01m.\u001b[39;00m\u001b[38;5;21;01mapi\u001b[39;00m \u001b[38;5;28;01mimport\u001b[39;00m Optimizer  \u001b[38;5;66;03m# noqa: F401\u001b[39;00m\n\u001b[0;32m     41\u001b[0m pickle \u001b[38;5;241m=\u001b[39m pickle\n\u001b[0;32m     42\u001b[0m copy_reg \u001b[38;5;241m=\u001b[39m copy_reg\n",
      "File \u001b[1;32mC:\\ProgramData\\anaconda3_2024-06-1\\Lib\\site-packages\\thinc\\api.py:1\u001b[0m\n\u001b[1;32m----> 1\u001b[0m \u001b[38;5;28;01mfrom\u001b[39;00m \u001b[38;5;21;01m.\u001b[39;00m\u001b[38;5;21;01mbackends\u001b[39;00m \u001b[38;5;28;01mimport\u001b[39;00m (\n\u001b[0;32m      2\u001b[0m     CupyOps,\n\u001b[0;32m      3\u001b[0m     MPSOps,\n\u001b[0;32m      4\u001b[0m     NumpyOps,\n\u001b[0;32m      5\u001b[0m     Ops,\n\u001b[0;32m      6\u001b[0m     get_current_ops,\n\u001b[0;32m      7\u001b[0m     get_ops,\n\u001b[0;32m      8\u001b[0m     set_current_ops,\n\u001b[0;32m      9\u001b[0m     set_gpu_allocator,\n\u001b[0;32m     10\u001b[0m     use_ops,\n\u001b[0;32m     11\u001b[0m     use_pytorch_for_gpu_memory,\n\u001b[0;32m     12\u001b[0m     use_tensorflow_for_gpu_memory,\n\u001b[0;32m     13\u001b[0m )\n\u001b[0;32m     14\u001b[0m \u001b[38;5;28;01mfrom\u001b[39;00m \u001b[38;5;21;01m.\u001b[39;00m\u001b[38;5;21;01mcompat\u001b[39;00m \u001b[38;5;28;01mimport\u001b[39;00m enable_mxnet, enable_tensorflow, has_cupy\n\u001b[0;32m     15\u001b[0m \u001b[38;5;28;01mfrom\u001b[39;00m \u001b[38;5;21;01m.\u001b[39;00m\u001b[38;5;21;01mconfig\u001b[39;00m \u001b[38;5;28;01mimport\u001b[39;00m Config, ConfigValidationError, registry\n",
      "File \u001b[1;32mC:\\ProgramData\\anaconda3_2024-06-1\\Lib\\site-packages\\thinc\\backends\\__init__.py:17\u001b[0m\n\u001b[0;32m     15\u001b[0m \u001b[38;5;28;01mfrom\u001b[39;00m \u001b[38;5;21;01m.\u001b[39;00m\u001b[38;5;21;01m_cupy_allocators\u001b[39;00m \u001b[38;5;28;01mimport\u001b[39;00m cupy_pytorch_allocator, cupy_tensorflow_allocator\n\u001b[0;32m     16\u001b[0m \u001b[38;5;28;01mfrom\u001b[39;00m \u001b[38;5;21;01m.\u001b[39;00m\u001b[38;5;21;01m_param_server\u001b[39;00m \u001b[38;5;28;01mimport\u001b[39;00m ParamServer\n\u001b[1;32m---> 17\u001b[0m \u001b[38;5;28;01mfrom\u001b[39;00m \u001b[38;5;21;01m.\u001b[39;00m\u001b[38;5;21;01mcupy_ops\u001b[39;00m \u001b[38;5;28;01mimport\u001b[39;00m CupyOps\n\u001b[0;32m     18\u001b[0m \u001b[38;5;28;01mfrom\u001b[39;00m \u001b[38;5;21;01m.\u001b[39;00m\u001b[38;5;21;01mmps_ops\u001b[39;00m \u001b[38;5;28;01mimport\u001b[39;00m MPSOps\n\u001b[0;32m     19\u001b[0m \u001b[38;5;28;01mfrom\u001b[39;00m \u001b[38;5;21;01m.\u001b[39;00m\u001b[38;5;21;01mnumpy_ops\u001b[39;00m \u001b[38;5;28;01mimport\u001b[39;00m NumpyOps\n",
      "File \u001b[1;32mC:\\ProgramData\\anaconda3_2024-06-1\\Lib\\site-packages\\thinc\\backends\\cupy_ops.py:16\u001b[0m\n\u001b[0;32m      6\u001b[0m \u001b[38;5;28;01mfrom\u001b[39;00m \u001b[38;5;21;01m.\u001b[39;00m\u001b[38;5;21;01m.\u001b[39;00m\u001b[38;5;21;01mutil\u001b[39;00m \u001b[38;5;28;01mimport\u001b[39;00m (\n\u001b[0;32m      7\u001b[0m     is_cupy_array,\n\u001b[0;32m      8\u001b[0m     is_mxnet_gpu_array,\n\u001b[1;32m   (...)\u001b[0m\n\u001b[0;32m     13\u001b[0m     torch2xp,\n\u001b[0;32m     14\u001b[0m )\n\u001b[0;32m     15\u001b[0m \u001b[38;5;28;01mfrom\u001b[39;00m \u001b[38;5;21;01m.\u001b[39;00m \u001b[38;5;28;01mimport\u001b[39;00m _custom_kernels\n\u001b[1;32m---> 16\u001b[0m \u001b[38;5;28;01mfrom\u001b[39;00m \u001b[38;5;21;01m.\u001b[39;00m\u001b[38;5;21;01mnumpy_ops\u001b[39;00m \u001b[38;5;28;01mimport\u001b[39;00m NumpyOps\n\u001b[0;32m     17\u001b[0m \u001b[38;5;28;01mfrom\u001b[39;00m \u001b[38;5;21;01m.\u001b[39;00m\u001b[38;5;21;01mops\u001b[39;00m \u001b[38;5;28;01mimport\u001b[39;00m Ops\n\u001b[0;32m     20\u001b[0m \u001b[38;5;129m@registry\u001b[39m\u001b[38;5;241m.\u001b[39mops(\u001b[38;5;124m\"\u001b[39m\u001b[38;5;124mCupyOps\u001b[39m\u001b[38;5;124m\"\u001b[39m)\n\u001b[0;32m     21\u001b[0m \u001b[38;5;28;01mclass\u001b[39;00m \u001b[38;5;21;01mCupyOps\u001b[39;00m(Ops):\n",
      "File \u001b[1;32mC:\\ProgramData\\anaconda3_2024-06-1\\Lib\\site-packages\\thinc\\backends\\numpy_ops.pyx:1\u001b[0m, in \u001b[0;36minit thinc.backends.numpy_ops\u001b[1;34m()\u001b[0m\n",
      "\u001b[1;31mImportError\u001b[0m: numpy.core.multiarray failed to import (auto-generated because you didn't call 'numpy.import_array()' after cimporting numpy; use '<void>numpy._import_array' to disable if you are certain you don't need it)."
     ]
    }
   ],
   "source": [
    "\n",
    "import spacy\n",
    "nlp = spacy.load(\"en_core_web_sm\")\n",
    "\n",
    "def lemmatize_text(text):\n",
    "    return ' '.join([token.lemma_ for token in nlp(text)])"
   ]
  },
  {
   "cell_type": "code",
   "execution_count": 298,
   "id": "904d22dc-edab-4d6e-b26b-402b2a6a734e",
   "metadata": {},
   "outputs": [
    {
     "ename": "NameError",
     "evalue": "name 'lemmatize_text' is not defined",
     "output_type": "error",
     "traceback": [
      "\u001b[1;31m---------------------------------------------------------------------------\u001b[0m",
      "\u001b[1;31mNameError\u001b[0m                                 Traceback (most recent call last)",
      "Cell \u001b[1;32mIn[298], line 2\u001b[0m\n\u001b[0;32m      1\u001b[0m text \u001b[38;5;241m=\u001b[39m \u001b[38;5;124m\"\u001b[39m\u001b[38;5;124mThe kids are running, eating, and playing better games.\u001b[39m\u001b[38;5;124m\"\u001b[39m\n\u001b[1;32m----> 2\u001b[0m \u001b[38;5;28mprint\u001b[39m(lemmatize_text(text))\n",
      "\u001b[1;31mNameError\u001b[0m: name 'lemmatize_text' is not defined"
     ]
    }
   ],
   "source": []
  },
  {
   "cell_type": "code",
   "execution_count": null,
   "id": "81b7e249-6ce1-4d9d-9804-a101e520beba",
   "metadata": {},
   "outputs": [],
   "source": []
  }
 ],
 "metadata": {
  "kernelspec": {
   "display_name": "Python 3 (ipykernel)",
   "language": "python",
   "name": "python3"
  },
  "language_info": {
   "codemirror_mode": {
    "name": "ipython",
    "version": 3
   },
   "file_extension": ".py",
   "mimetype": "text/x-python",
   "name": "python",
   "nbconvert_exporter": "python",
   "pygments_lexer": "ipython3",
   "version": "3.12.4"
  }
 },
 "nbformat": 4,
 "nbformat_minor": 5
}
